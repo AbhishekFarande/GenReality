{
  "nbformat": 4,
  "nbformat_minor": 0,
  "metadata": {
    "colab": {
      "name": "GEN_1_regression_pytorch.ipynb",
      "provenance": [],
      "authorship_tag": "ABX9TyNbc0XTURgM2wOqSemE9tSw",
      "include_colab_link": true
    },
    "kernelspec": {
      "name": "python3",
      "display_name": "Python 3"
    }
  },
  "cells": [
    {
      "cell_type": "markdown",
      "metadata": {
        "id": "view-in-github",
        "colab_type": "text"
      },
      "source": [
        "<a href=\"https://colab.research.google.com/github/cxbxmxcx/GenReality/blob/master/GEN_1_regression_pytorch.ipynb\" target=\"_parent\"><img src=\"https://colab.research.google.com/assets/colab-badge.svg\" alt=\"Open In Colab\"/></a>"
      ]
    },
    {
      "cell_type": "code",
      "metadata": {
        "id": "XhB46Q8JTpBd"
      },
      "source": [
        "from sklearn.datasets import load_boston\n",
        "from sklearn.model_selection import train_test_split\n",
        "\n",
        "import numpy  as np\n",
        "import matplotlib.pyplot as plt\n",
        "\n",
        "import torch\n",
        "import torch.nn as nn\n",
        "\n",
        "import pandas as pd"
      ],
      "execution_count": 1,
      "outputs": []
    },
    {
      "cell_type": "code",
      "metadata": {
        "id": "tNHQgiXUUFIa"
      },
      "source": [
        "boston = load_boston()\n",
        "X,y   = (boston.data, boston.target)\n",
        "boston.data[:2]\n",
        "inputs = X.shape[1]"
      ],
      "execution_count": 2,
      "outputs": []
    },
    {
      "cell_type": "code",
      "metadata": {
        "colab": {
          "base_uri": "https://localhost:8080/"
        },
        "id": "hXpiGQHDuKWl",
        "outputId": "d43378f4-5b79-4f60-fb97-2a697c4cbf31"
      },
      "source": [
        "bos = pd.DataFrame(boston.data)\n",
        "print(bos.head())"
      ],
      "execution_count": 3,
      "outputs": [
        {
          "output_type": "stream",
          "text": [
            "        0     1     2    3      4   ...   8      9     10      11    12\n",
            "0  0.00632  18.0  2.31  0.0  0.538  ...  1.0  296.0  15.3  396.90  4.98\n",
            "1  0.02731   0.0  7.07  0.0  0.469  ...  2.0  242.0  17.8  396.90  9.14\n",
            "2  0.02729   0.0  7.07  0.0  0.469  ...  2.0  242.0  17.8  392.83  4.03\n",
            "3  0.03237   0.0  2.18  0.0  0.458  ...  3.0  222.0  18.7  394.63  2.94\n",
            "4  0.06905   0.0  2.18  0.0  0.458  ...  3.0  222.0  18.7  396.90  5.33\n",
            "\n",
            "[5 rows x 13 columns]\n"
          ],
          "name": "stdout"
        }
      ]
    },
    {
      "cell_type": "code",
      "metadata": {
        "id": "z05ZyUrmU7is",
        "colab": {
          "base_uri": "https://localhost:8080/"
        },
        "outputId": "9bb6d5dd-fb86-41df-ab35-931e9f96398f"
      },
      "source": [
        "X_train, X_test, y_train, y_test = train_test_split(X, y, test_size=0.2, random_state=0)\n",
        "num_train = X_train.shape[0]\n",
        "X_train[:2], y_train[:2]\n",
        "num_train"
      ],
      "execution_count": 4,
      "outputs": [
        {
          "output_type": "execute_result",
          "data": {
            "text/plain": [
              "404"
            ]
          },
          "metadata": {
            "tags": []
          },
          "execution_count": 4
        }
      ]
    },
    {
      "cell_type": "code",
      "metadata": {
        "id": "QLshQolGVUlz"
      },
      "source": [
        "torch.set_default_dtype(torch.float64)\n",
        "net = nn.Sequential(\n",
        "    nn.Linear(inputs, 50, bias = True), nn.ReLU(),\n",
        "    nn.Linear(50, 50, bias = True), nn.ReLU(),\n",
        "    nn.Linear(50, 50, bias = True), nn.Sigmoid(),\n",
        "    nn.Linear(50, 1)\n",
        ")\n",
        "loss_fn = nn.MSELoss()\n",
        "optimizer = torch.optim.Adam(net.parameters(), lr = .001)"
      ],
      "execution_count": 5,
      "outputs": []
    },
    {
      "cell_type": "code",
      "metadata": {
        "id": "ZhR9h8Y3WCWM"
      },
      "source": [
        "num_epochs = 8000\n",
        "y_train_t = torch.from_numpy(y_train).clone().reshape(-1, 1)\n",
        "x_train_t = torch.from_numpy(X_train).clone()\n",
        "y_test_t = torch.from_numpy(y_test).clone().reshape(-1, 1)\n",
        "x_test_t = torch.from_numpy(X_test).clone()\n",
        "history = []"
      ],
      "execution_count": 6,
      "outputs": []
    },
    {
      "cell_type": "code",
      "metadata": {
        "id": "Ef62jrN3WP0d",
        "colab": {
          "base_uri": "https://localhost:8080/"
        },
        "outputId": "1041e6bd-7d72-47f1-da31-e0d8c263084a"
      },
      "source": [
        "for i in range(num_epochs):\n",
        "    y_pred = net(x_train_t)\n",
        "    loss = loss_fn(y_train_t,y_pred)\n",
        "    history.append(loss.data)    \n",
        "    loss.backward()\n",
        "    optimizer.step()\n",
        "    optimizer.zero_grad()  \n",
        "    test_loss = loss_fn(y_test_t,net(x_test_t))  \n",
        "    if i > 0 and i % 100 == 0:\n",
        "        print(f'Epoch {i}, loss = {loss:.3f}, test loss {test_loss:.3f}')"
      ],
      "execution_count": 7,
      "outputs": [
        {
          "output_type": "stream",
          "text": [
            "Epoch 100, loss = 361.638, test loss 343.932\n",
            "Epoch 200, loss = 266.500, test loss 251.602\n",
            "Epoch 300, loss = 199.701, test loss 187.212\n",
            "Epoch 400, loss = 154.283, test loss 143.850\n",
            "Epoch 500, loss = 124.788, test loss 116.070\n",
            "Epoch 600, loss = 103.971, test loss 99.296\n",
            "Epoch 700, loss = 84.527, test loss 83.124\n",
            "Epoch 800, loss = 70.453, test loss 73.640\n",
            "Epoch 900, loss = 61.279, test loss 66.028\n",
            "Epoch 1000, loss = 54.815, test loss 61.762\n",
            "Epoch 1100, loss = 49.963, test loss 57.453\n",
            "Epoch 1200, loss = 44.407, test loss 53.828\n",
            "Epoch 1300, loss = 38.060, test loss 47.988\n",
            "Epoch 1400, loss = 33.572, test loss 44.470\n",
            "Epoch 1500, loss = 30.324, test loss 44.872\n",
            "Epoch 1600, loss = 26.943, test loss 40.902\n",
            "Epoch 1700, loss = 24.669, test loss 39.671\n",
            "Epoch 1800, loss = 22.695, test loss 39.206\n",
            "Epoch 1900, loss = 20.979, test loss 37.579\n",
            "Epoch 2000, loss = 19.474, test loss 37.252\n",
            "Epoch 2100, loss = 17.688, test loss 36.072\n",
            "Epoch 2200, loss = 16.643, test loss 34.744\n",
            "Epoch 2300, loss = 15.765, test loss 34.074\n",
            "Epoch 2400, loss = 14.716, test loss 33.279\n",
            "Epoch 2500, loss = 13.187, test loss 32.956\n",
            "Epoch 2600, loss = 12.333, test loss 31.663\n",
            "Epoch 2700, loss = 11.443, test loss 32.494\n",
            "Epoch 2800, loss = 10.785, test loss 30.797\n",
            "Epoch 2900, loss = 10.026, test loss 31.195\n",
            "Epoch 3000, loss = 9.385, test loss 30.109\n",
            "Epoch 3100, loss = 8.866, test loss 30.111\n",
            "Epoch 3200, loss = 8.426, test loss 31.332\n",
            "Epoch 3300, loss = 7.947, test loss 30.592\n",
            "Epoch 3400, loss = 7.387, test loss 30.816\n",
            "Epoch 3500, loss = 7.153, test loss 30.549\n",
            "Epoch 3600, loss = 6.568, test loss 30.285\n",
            "Epoch 3700, loss = 6.333, test loss 30.197\n",
            "Epoch 3800, loss = 5.675, test loss 29.454\n",
            "Epoch 3900, loss = 5.503, test loss 29.092\n",
            "Epoch 4000, loss = 5.010, test loss 28.550\n",
            "Epoch 4100, loss = 4.868, test loss 28.340\n",
            "Epoch 4200, loss = 4.570, test loss 28.373\n",
            "Epoch 4300, loss = 4.334, test loss 27.917\n",
            "Epoch 4400, loss = 4.082, test loss 28.089\n",
            "Epoch 4500, loss = 3.829, test loss 27.707\n",
            "Epoch 4600, loss = 3.698, test loss 27.947\n",
            "Epoch 4700, loss = 3.486, test loss 28.132\n",
            "Epoch 4800, loss = 3.359, test loss 28.242\n",
            "Epoch 4900, loss = 3.199, test loss 27.727\n",
            "Epoch 5000, loss = 3.142, test loss 27.894\n",
            "Epoch 5100, loss = 2.999, test loss 27.760\n",
            "Epoch 5200, loss = 2.884, test loss 27.655\n",
            "Epoch 5300, loss = 2.798, test loss 28.010\n",
            "Epoch 5400, loss = 2.955, test loss 27.524\n",
            "Epoch 5500, loss = 2.638, test loss 27.920\n",
            "Epoch 5600, loss = 2.652, test loss 27.624\n",
            "Epoch 5700, loss = 2.639, test loss 27.399\n",
            "Epoch 5800, loss = 2.527, test loss 27.359\n",
            "Epoch 5900, loss = 2.770, test loss 28.731\n",
            "Epoch 6000, loss = 2.232, test loss 27.967\n",
            "Epoch 6100, loss = 2.159, test loss 27.610\n",
            "Epoch 6200, loss = 2.066, test loss 27.186\n",
            "Epoch 6300, loss = 2.051, test loss 26.501\n",
            "Epoch 6400, loss = 2.034, test loss 26.526\n",
            "Epoch 6500, loss = 1.862, test loss 27.168\n",
            "Epoch 6600, loss = 1.813, test loss 26.657\n",
            "Epoch 6700, loss = 1.854, test loss 25.780\n",
            "Epoch 6800, loss = 1.766, test loss 26.558\n",
            "Epoch 6900, loss = 1.708, test loss 25.562\n",
            "Epoch 7000, loss = 1.636, test loss 26.050\n",
            "Epoch 7100, loss = 1.604, test loss 25.381\n",
            "Epoch 7200, loss = 1.613, test loss 25.960\n",
            "Epoch 7300, loss = 1.549, test loss 25.285\n",
            "Epoch 7400, loss = 1.542, test loss 25.706\n",
            "Epoch 7500, loss = 1.507, test loss 25.314\n",
            "Epoch 7600, loss = 1.488, test loss 25.299\n",
            "Epoch 7700, loss = 1.475, test loss 25.073\n",
            "Epoch 7800, loss = 1.545, test loss 25.071\n",
            "Epoch 7900, loss = 1.528, test loss 25.537\n"
          ],
          "name": "stdout"
        }
      ]
    },
    {
      "cell_type": "code",
      "metadata": {
        "id": "IifIajH-XFrl",
        "colab": {
          "base_uri": "https://localhost:8080/",
          "height": 282
        },
        "outputId": "eba9afba-c41c-4a14-cf87-85ad0f596572"
      },
      "source": [
        "plt.plot(history)"
      ],
      "execution_count": 8,
      "outputs": [
        {
          "output_type": "execute_result",
          "data": {
            "text/plain": [
              "[<matplotlib.lines.Line2D at 0x7f6ab0f678d0>]"
            ]
          },
          "metadata": {
            "tags": []
          },
          "execution_count": 8
        },
        {
          "output_type": "display_data",
          "data": {
            "image/png": "[encoded data removed]",
            "text/plain": [
              "<Figure size 432x288 with 1 Axes>"
            ]
          },
          "metadata": {
            "tags": [],
            "needs_background": "light"
          }
        }
      ]
    }
  ]
}