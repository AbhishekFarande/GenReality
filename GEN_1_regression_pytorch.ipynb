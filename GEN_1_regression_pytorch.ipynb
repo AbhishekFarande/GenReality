{
  "nbformat": 4,
  "nbformat_minor": 0,
  "metadata": {
    "colab": {
      "name": "GEN_1_regression_pytorch.ipynb",
      "provenance": [],
      "authorship_tag": "ABX9TyMDMYn0rWDDvb7vQ3MpWQFI",
      "include_colab_link": true
    },
    "kernelspec": {
      "name": "python3",
      "display_name": "Python 3"
    }
  },
  "cells": [
    {
      "cell_type": "markdown",
      "metadata": {
        "id": "view-in-github",
        "colab_type": "text"
      },
      "source": [
        "<a href=\"https://colab.research.google.com/github/cxbxmxcx/GenReality/blob/master/GEN_1_regression_pytorch.ipynb\" target=\"_parent\"><img src=\"https://colab.research.google.com/assets/colab-badge.svg\" alt=\"Open In Colab\"/></a>"
      ]
    },
    {
      "cell_type": "code",
      "metadata": {
        "id": "XhB46Q8JTpBd"
      },
      "source": [
        "from sklearn.datasets import load_boston\n",
        "from sklearn.model_selection import train_test_split\n",
        "\n",
        "import numpy  as np\n",
        "import matplotlib.pyplot as plt\n",
        "\n",
        "import torch\n",
        "import torch.nn as nn"
      ],
      "execution_count": null,
      "outputs": []
    },
    {
      "cell_type": "code",
      "metadata": {
        "id": "tNHQgiXUUFIa"
      },
      "source": [
        "boston = load_boston()\n",
        "X,y   = (boston.data, boston.target)\n",
        "boston.data[:2]\n",
        "inputs = X.shape[1]"
      ],
      "execution_count": null,
      "outputs": []
    },
    {
      "cell_type": "code",
      "metadata": {
        "id": "z05ZyUrmU7is",
        "outputId": "bcd8867f-8c1d-4296-85c0-57cfffa776af",
        "colab": {
          "base_uri": "https://localhost:8080/",
          "height": 34
        }
      },
      "source": [
        "X_train, X_test, y_train, y_test = train_test_split(X, y, test_size=0.2, random_state=0)\n",
        "num_train = X_train.shape[0]\n",
        "X_train[:2], y_train[:2]\n",
        "num_train"
      ],
      "execution_count": null,
      "outputs": [
        {
          "output_type": "execute_result",
          "data": {
            "text/plain": [
              "404"
            ]
          },
          "metadata": {
            "tags": []
          },
          "execution_count": 21
        }
      ]
    },
    {
      "cell_type": "code",
      "metadata": {
        "id": "QLshQolGVUlz"
      },
      "source": [
        "torch.set_default_dtype(torch.float64)\n",
        "net = nn.Sequential(\n",
        "    nn.Linear(inputs, 50, bias = True), nn.ReLU(),\n",
        "    nn.Linear(50, 50, bias = True), nn.ReLU(),\n",
        "    nn.Linear(50, 50, bias = True), nn.Sigmoid(),\n",
        "    nn.Linear(50, 1)\n",
        ")\n",
        "loss_fn = nn.MSELoss()\n",
        "optimizer = torch.optim.Adam(net.parameters(), lr = .001)"
      ],
      "execution_count": null,
      "outputs": []
    },
    {
      "cell_type": "code",
      "metadata": {
        "id": "ZhR9h8Y3WCWM"
      },
      "source": [
        "num_epochs = 8000\n",
        "y_train_t = torch.from_numpy(y_train).clone().reshape(-1, 1)\n",
        "x_train_t = torch.from_numpy(X_train).clone()\n",
        "y_test_t = torch.from_numpy(y_test).clone().reshape(-1, 1)\n",
        "x_test_t = torch.from_numpy(X_test).clone()\n",
        "history = []"
      ],
      "execution_count": null,
      "outputs": []
    },
    {
      "cell_type": "code",
      "metadata": {
        "id": "Ef62jrN3WP0d",
        "outputId": "bdbc5be1-201c-4669-ab4b-951f7af2b0a4",
        "colab": {
          "base_uri": "https://localhost:8080/",
          "height": 1000
        }
      },
      "source": [
        "for i in range(num_epochs):\n",
        "    y_pred = net(x_train_t)\n",
        "    loss = loss_fn(y_train_t,y_pred)\n",
        "    history.append(loss.data)    \n",
        "    loss.backward()\n",
        "    optimizer.step()\n",
        "    optimizer.zero_grad()  \n",
        "    test_loss = loss_fn(y_test_t,net(x_test_t))  \n",
        "    if i > 0 and i % 100 == 0:\n",
        "        print(f'Epoch {i}, loss = {loss:.3f}, test loss {test_loss:.3f}')"
      ],
      "execution_count": null,
      "outputs": [
        {
          "output_type": "stream",
          "text": [
            "Epoch 100, loss = 388.467, test loss 370.000\n",
            "Epoch 200, loss = 283.073, test loss 267.632\n",
            "Epoch 300, loss = 206.367, test loss 193.569\n",
            "Epoch 400, loss = 156.222, test loss 145.670\n",
            "Epoch 500, loss = 124.749, test loss 115.975\n",
            "Epoch 600, loss = 101.665, test loss 97.746\n",
            "Epoch 700, loss = 84.445, test loss 83.058\n",
            "Epoch 800, loss = 69.370, test loss 72.937\n",
            "Epoch 900, loss = 58.477, test loss 67.917\n",
            "Epoch 1000, loss = 50.819, test loss 60.621\n",
            "Epoch 1100, loss = 44.962, test loss 55.722\n",
            "Epoch 1200, loss = 39.012, test loss 49.534\n",
            "Epoch 1300, loss = 34.122, test loss 45.360\n",
            "Epoch 1400, loss = 30.154, test loss 43.132\n",
            "Epoch 1500, loss = 27.008, test loss 41.146\n",
            "Epoch 1600, loss = 24.271, test loss 38.558\n",
            "Epoch 1700, loss = 21.919, test loss 37.644\n",
            "Epoch 1800, loss = 20.056, test loss 35.945\n",
            "Epoch 1900, loss = 18.162, test loss 34.472\n",
            "Epoch 2000, loss = 16.540, test loss 34.082\n",
            "Epoch 2100, loss = 15.274, test loss 33.068\n",
            "Epoch 2200, loss = 14.071, test loss 32.496\n",
            "Epoch 2300, loss = 13.009, test loss 32.037\n",
            "Epoch 2400, loss = 12.305, test loss 32.100\n",
            "Epoch 2500, loss = 11.431, test loss 31.053\n",
            "Epoch 2600, loss = 10.747, test loss 29.919\n",
            "Epoch 2700, loss = 9.988, test loss 29.296\n",
            "Epoch 2800, loss = 9.592, test loss 29.404\n",
            "Epoch 2900, loss = 8.923, test loss 28.567\n",
            "Epoch 3000, loss = 8.466, test loss 27.887\n",
            "Epoch 3100, loss = 7.970, test loss 27.066\n",
            "Epoch 3200, loss = 7.611, test loss 26.529\n",
            "Epoch 3300, loss = 7.284, test loss 26.708\n",
            "Epoch 3400, loss = 7.202, test loss 26.952\n",
            "Epoch 3500, loss = 6.688, test loss 26.052\n",
            "Epoch 3600, loss = 6.530, test loss 26.320\n",
            "Epoch 3700, loss = 6.255, test loss 25.500\n",
            "Epoch 3800, loss = 6.027, test loss 25.311\n",
            "Epoch 3900, loss = 5.817, test loss 25.948\n",
            "Epoch 4000, loss = 5.529, test loss 25.990\n",
            "Epoch 4100, loss = 5.241, test loss 25.640\n",
            "Epoch 4200, loss = 4.969, test loss 25.339\n",
            "Epoch 4300, loss = 4.781, test loss 25.208\n",
            "Epoch 4400, loss = 4.590, test loss 25.215\n",
            "Epoch 4500, loss = 4.383, test loss 25.349\n",
            "Epoch 4600, loss = 4.344, test loss 25.100\n",
            "Epoch 4700, loss = 4.236, test loss 25.057\n",
            "Epoch 4800, loss = 4.149, test loss 25.664\n",
            "Epoch 4900, loss = 3.986, test loss 25.523\n",
            "Epoch 5000, loss = 3.850, test loss 25.556\n",
            "Epoch 5100, loss = 3.779, test loss 25.753\n",
            "Epoch 5200, loss = 3.733, test loss 25.620\n",
            "Epoch 5300, loss = 3.729, test loss 25.987\n",
            "Epoch 5400, loss = 3.510, test loss 25.623\n",
            "Epoch 5500, loss = 3.573, test loss 26.244\n",
            "Epoch 5600, loss = 3.465, test loss 26.160\n",
            "Epoch 5700, loss = 3.424, test loss 26.131\n",
            "Epoch 5800, loss = 3.273, test loss 25.702\n",
            "Epoch 5900, loss = 3.293, test loss 26.044\n",
            "Epoch 6000, loss = 3.245, test loss 26.358\n",
            "Epoch 6100, loss = 3.139, test loss 26.290\n",
            "Epoch 6200, loss = 3.063, test loss 26.506\n",
            "Epoch 6300, loss = 3.221, test loss 25.532\n",
            "Epoch 6400, loss = 2.926, test loss 26.490\n",
            "Epoch 6500, loss = 2.860, test loss 26.355\n",
            "Epoch 6600, loss = 2.844, test loss 26.526\n",
            "Epoch 6700, loss = 2.818, test loss 26.670\n",
            "Epoch 6800, loss = 2.815, test loss 26.879\n",
            "Epoch 6900, loss = 2.704, test loss 26.355\n",
            "Epoch 7000, loss = 2.676, test loss 25.824\n",
            "Epoch 7100, loss = 2.600, test loss 25.758\n",
            "Epoch 7200, loss = 2.610, test loss 26.774\n",
            "Epoch 7300, loss = 2.522, test loss 26.071\n",
            "Epoch 7400, loss = 2.470, test loss 25.950\n",
            "Epoch 7500, loss = 2.410, test loss 26.052\n",
            "Epoch 7600, loss = 2.365, test loss 26.384\n",
            "Epoch 7700, loss = 2.348, test loss 26.784\n",
            "Epoch 7800, loss = 2.417, test loss 26.134\n",
            "Epoch 7900, loss = 2.316, test loss 26.424\n"
          ],
          "name": "stdout"
        }
      ]
    },
    {
      "cell_type": "code",
      "metadata": {
        "id": "IifIajH-XFrl",
        "outputId": "dc31f631-1d1a-42df-c06b-a836163c9aba",
        "colab": {
          "base_uri": "https://localhost:8080/",
          "height": 282
        }
      },
      "source": [
        "plt.plot(history)"
      ],
      "execution_count": null,
      "outputs": [
        {
          "output_type": "execute_result",
          "data": {
            "text/plain": [
              "[<matplotlib.lines.Line2D at 0x7f4d63652a58>]"
            ]
          },
          "metadata": {
            "tags": []
          },
          "execution_count": 25
        },
        {
          "output_type": "display_data",
          "data": {
            "image/png": "[encoded data removed]",
            "text/plain": [
              "<Figure size 432x288 with 1 Axes>"
            ]
          },
          "metadata": {
            "tags": [],
            "needs_background": "light"
          }
        }
      ]
    }
  ]
}